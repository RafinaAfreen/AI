{
 "cells": [
  {
   "cell_type": "code",
   "execution_count": 1,
   "metadata": {},
   "outputs": [],
   "source": [
    "import pandas as pd\n",
    "import numpy as np\n",
    "\n",
    "from sklearn import tree\n",
    "from sklearn.tree import DecisionTreeClassifier\n",
    "from sklearn.model_selection import train_test_split\n",
    "\n",
    "import sklearn\n",
    "from sklearn.preprocessing import LabelEncoder\n",
    "from sklearn import preprocessing\n",
    "\n",
    "from sklearn.metrics import accuracy_score\n",
    "from sklearn.naive_bayes import GaussianNB\n",
    "\n",
    "from sklearn.neural_network import MLPClassifier\n",
    "\n",
    "import matplotlib.pyplot as plt\n",
    "%matplotlib inline"
   ]
  },
  {
   "cell_type": "code",
   "execution_count": 2,
   "metadata": {
    "scrolled": true
   },
   "outputs": [],
   "source": [
    "data = pd.read_csv(r\"C:\\Users\\Lenovo\\Desktop\\365\\project\\project.csv\")"
   ]
  },
  {
   "cell_type": "code",
   "execution_count": 3,
   "metadata": {
    "scrolled": true
   },
   "outputs": [
    {
     "data": {
      "text/html": [
       "<div>\n",
       "<style scoped>\n",
       "    .dataframe tbody tr th:only-of-type {\n",
       "        vertical-align: middle;\n",
       "    }\n",
       "\n",
       "    .dataframe tbody tr th {\n",
       "        vertical-align: top;\n",
       "    }\n",
       "\n",
       "    .dataframe thead th {\n",
       "        text-align: right;\n",
       "    }\n",
       "</style>\n",
       "<table border=\"1\" class=\"dataframe\">\n",
       "  <thead>\n",
       "    <tr style=\"text-align: right;\">\n",
       "      <th></th>\n",
       "      <th>AxleNumber</th>\n",
       "      <th>TrainModel</th>\n",
       "      <th>VerticalVibration</th>\n",
       "      <th>CrackSizeVertical</th>\n",
       "      <th>RepairmentAxle</th>\n",
       "      <th>HorizontalVibration</th>\n",
       "      <th>CrackSizeHorizontal</th>\n",
       "      <th>RepairmentWheel</th>\n",
       "    </tr>\n",
       "  </thead>\n",
       "  <tbody>\n",
       "    <tr>\n",
       "      <th>0</th>\n",
       "      <td>791</td>\n",
       "      <td>Subarna Express</td>\n",
       "      <td>1.60</td>\n",
       "      <td>0.01</td>\n",
       "      <td>False</td>\n",
       "      <td>0.001</td>\n",
       "      <td>0.00</td>\n",
       "      <td>DoNot</td>\n",
       "    </tr>\n",
       "    <tr>\n",
       "      <th>1</th>\n",
       "      <td>729</td>\n",
       "      <td>Mahanagar Provati</td>\n",
       "      <td>1.80</td>\n",
       "      <td>0.01</td>\n",
       "      <td>False</td>\n",
       "      <td>0.020</td>\n",
       "      <td>0.05</td>\n",
       "      <td>DoNot</td>\n",
       "    </tr>\n",
       "    <tr>\n",
       "      <th>2</th>\n",
       "      <td>742</td>\n",
       "      <td>Ekota Express</td>\n",
       "      <td>1.80</td>\n",
       "      <td>0.02</td>\n",
       "      <td>False</td>\n",
       "      <td>0.200</td>\n",
       "      <td>0.20</td>\n",
       "      <td>DoNot</td>\n",
       "    </tr>\n",
       "    <tr>\n",
       "      <th>3</th>\n",
       "      <td>739</td>\n",
       "      <td>Tista Express</td>\n",
       "      <td>1.90</td>\n",
       "      <td>0.10</td>\n",
       "      <td>False</td>\n",
       "      <td>0.370</td>\n",
       "      <td>0.25</td>\n",
       "      <td>DoNot</td>\n",
       "    </tr>\n",
       "    <tr>\n",
       "      <th>4</th>\n",
       "      <td>720</td>\n",
       "      <td>Parabat Express</td>\n",
       "      <td>1.95</td>\n",
       "      <td>0.14</td>\n",
       "      <td>False</td>\n",
       "      <td>0.500</td>\n",
       "      <td>0.27</td>\n",
       "      <td>DoNot</td>\n",
       "    </tr>\n",
       "  </tbody>\n",
       "</table>\n",
       "</div>"
      ],
      "text/plain": [
       "   AxleNumber         TrainModel  VerticalVibration  CrackSizeVertical  \\\n",
       "0         791    Subarna Express               1.60               0.01   \n",
       "1         729  Mahanagar Provati               1.80               0.01   \n",
       "2         742      Ekota Express               1.80               0.02   \n",
       "3         739      Tista Express               1.90               0.10   \n",
       "4         720    Parabat Express               1.95               0.14   \n",
       "\n",
       "  RepairmentAxle  HorizontalVibration  CrackSizeHorizontal RepairmentWheel  \n",
       "0          False                0.001                 0.00           DoNot  \n",
       "1          False                0.020                 0.05           DoNot  \n",
       "2          False                0.200                 0.20           DoNot  \n",
       "3          False                0.370                 0.25           DoNot  \n",
       "4          False                0.500                 0.27           DoNot  "
      ]
     },
     "execution_count": 3,
     "metadata": {},
     "output_type": "execute_result"
    }
   ],
   "source": [
    "data.head(5)"
   ]
  },
  {
   "cell_type": "code",
   "execution_count": 4,
   "metadata": {},
   "outputs": [
    {
     "data": {
      "text/plain": [
       "(1000, 8)"
      ]
     },
     "execution_count": 4,
     "metadata": {},
     "output_type": "execute_result"
    }
   ],
   "source": [
    "data.shape"
   ]
  },
  {
   "cell_type": "code",
   "execution_count": 5,
   "metadata": {},
   "outputs": [
    {
     "data": {
      "text/plain": [
       "AxleNumber              0\n",
       "TrainModel              0\n",
       "VerticalVibration      11\n",
       "CrackSizeVertical      13\n",
       "RepairmentAxle          1\n",
       "HorizontalVibration     0\n",
       "CrackSizeHorizontal     0\n",
       "RepairmentWheel         0\n",
       "dtype: int64"
      ]
     },
     "execution_count": 5,
     "metadata": {},
     "output_type": "execute_result"
    }
   ],
   "source": [
    "data.isnull().sum()"
   ]
  },
  {
   "cell_type": "code",
   "execution_count": 6,
   "metadata": {},
   "outputs": [],
   "source": [
    "data = data.dropna()"
   ]
  },
  {
   "cell_type": "code",
   "execution_count": 7,
   "metadata": {},
   "outputs": [
    {
     "data": {
      "text/plain": [
       "AxleNumber             0\n",
       "TrainModel             0\n",
       "VerticalVibration      0\n",
       "CrackSizeVertical      0\n",
       "RepairmentAxle         0\n",
       "HorizontalVibration    0\n",
       "CrackSizeHorizontal    0\n",
       "RepairmentWheel        0\n",
       "dtype: int64"
      ]
     },
     "execution_count": 7,
     "metadata": {},
     "output_type": "execute_result"
    }
   ],
   "source": [
    "data.isnull().sum()"
   ]
  },
  {
   "cell_type": "code",
   "execution_count": 8,
   "metadata": {},
   "outputs": [
    {
     "data": {
      "text/html": [
       "<div>\n",
       "<style scoped>\n",
       "    .dataframe tbody tr th:only-of-type {\n",
       "        vertical-align: middle;\n",
       "    }\n",
       "\n",
       "    .dataframe tbody tr th {\n",
       "        vertical-align: top;\n",
       "    }\n",
       "\n",
       "    .dataframe thead th {\n",
       "        text-align: right;\n",
       "    }\n",
       "</style>\n",
       "<table border=\"1\" class=\"dataframe\">\n",
       "  <thead>\n",
       "    <tr style=\"text-align: right;\">\n",
       "      <th></th>\n",
       "      <th>AxleNumber</th>\n",
       "      <th>TrainModel</th>\n",
       "      <th>VerticalVibration</th>\n",
       "      <th>CrackSizeVertical</th>\n",
       "      <th>RepairmentAxle</th>\n",
       "      <th>HorizontalVibration</th>\n",
       "      <th>CrackSizeHorizontal</th>\n",
       "      <th>RepairmentWheel</th>\n",
       "    </tr>\n",
       "  </thead>\n",
       "  <tbody>\n",
       "    <tr>\n",
       "      <th>0</th>\n",
       "      <td>791</td>\n",
       "      <td>Subarna Express</td>\n",
       "      <td>1.60</td>\n",
       "      <td>0.01</td>\n",
       "      <td>False</td>\n",
       "      <td>0.001</td>\n",
       "      <td>0.00</td>\n",
       "      <td>DoNot</td>\n",
       "    </tr>\n",
       "    <tr>\n",
       "      <th>1</th>\n",
       "      <td>729</td>\n",
       "      <td>Mahanagar Provati</td>\n",
       "      <td>1.80</td>\n",
       "      <td>0.01</td>\n",
       "      <td>False</td>\n",
       "      <td>0.020</td>\n",
       "      <td>0.05</td>\n",
       "      <td>DoNot</td>\n",
       "    </tr>\n",
       "    <tr>\n",
       "      <th>2</th>\n",
       "      <td>742</td>\n",
       "      <td>Ekota Express</td>\n",
       "      <td>1.80</td>\n",
       "      <td>0.02</td>\n",
       "      <td>False</td>\n",
       "      <td>0.200</td>\n",
       "      <td>0.20</td>\n",
       "      <td>DoNot</td>\n",
       "    </tr>\n",
       "    <tr>\n",
       "      <th>3</th>\n",
       "      <td>739</td>\n",
       "      <td>Tista Express</td>\n",
       "      <td>1.90</td>\n",
       "      <td>0.10</td>\n",
       "      <td>False</td>\n",
       "      <td>0.370</td>\n",
       "      <td>0.25</td>\n",
       "      <td>DoNot</td>\n",
       "    </tr>\n",
       "    <tr>\n",
       "      <th>4</th>\n",
       "      <td>720</td>\n",
       "      <td>Parabat Express</td>\n",
       "      <td>1.95</td>\n",
       "      <td>0.14</td>\n",
       "      <td>False</td>\n",
       "      <td>0.500</td>\n",
       "      <td>0.27</td>\n",
       "      <td>DoNot</td>\n",
       "    </tr>\n",
       "  </tbody>\n",
       "</table>\n",
       "</div>"
      ],
      "text/plain": [
       "   AxleNumber         TrainModel  VerticalVibration  CrackSizeVertical  \\\n",
       "0         791    Subarna Express               1.60               0.01   \n",
       "1         729  Mahanagar Provati               1.80               0.01   \n",
       "2         742      Ekota Express               1.80               0.02   \n",
       "3         739      Tista Express               1.90               0.10   \n",
       "4         720    Parabat Express               1.95               0.14   \n",
       "\n",
       "  RepairmentAxle  HorizontalVibration  CrackSizeHorizontal RepairmentWheel  \n",
       "0          False                0.001                 0.00           DoNot  \n",
       "1          False                0.020                 0.05           DoNot  \n",
       "2          False                0.200                 0.20           DoNot  \n",
       "3          False                0.370                 0.25           DoNot  \n",
       "4          False                0.500                 0.27           DoNot  "
      ]
     },
     "execution_count": 8,
     "metadata": {},
     "output_type": "execute_result"
    }
   ],
   "source": [
    "data.head()"
   ]
  },
  {
   "cell_type": "code",
   "execution_count": 9,
   "metadata": {},
   "outputs": [],
   "source": [
    "le_RepairmentAxle = LabelEncoder()\n",
    "le_AxleNumber = LabelEncoder()\n",
    "le_TrainModel = LabelEncoder()"
   ]
  },
  {
   "cell_type": "code",
   "execution_count": 10,
   "metadata": {
    "scrolled": true
   },
   "outputs": [
    {
     "data": {
      "text/html": [
       "<div>\n",
       "<style scoped>\n",
       "    .dataframe tbody tr th:only-of-type {\n",
       "        vertical-align: middle;\n",
       "    }\n",
       "\n",
       "    .dataframe tbody tr th {\n",
       "        vertical-align: top;\n",
       "    }\n",
       "\n",
       "    .dataframe thead th {\n",
       "        text-align: right;\n",
       "    }\n",
       "</style>\n",
       "<table border=\"1\" class=\"dataframe\">\n",
       "  <thead>\n",
       "    <tr style=\"text-align: right;\">\n",
       "      <th></th>\n",
       "      <th>AxleNumber</th>\n",
       "      <th>TrainModel</th>\n",
       "      <th>VerticalVibration</th>\n",
       "      <th>CrackSizeVertical</th>\n",
       "      <th>RepairmentAxle</th>\n",
       "      <th>HorizontalVibration</th>\n",
       "      <th>CrackSizeHorizontal</th>\n",
       "      <th>RepairmentWheel</th>\n",
       "      <th>RepairmentAxle_x</th>\n",
       "      <th>AxleNumber_x</th>\n",
       "      <th>TrainModel_x</th>\n",
       "    </tr>\n",
       "  </thead>\n",
       "  <tbody>\n",
       "    <tr>\n",
       "      <th>0</th>\n",
       "      <td>791</td>\n",
       "      <td>Subarna Express</td>\n",
       "      <td>1.60</td>\n",
       "      <td>0.01</td>\n",
       "      <td>False</td>\n",
       "      <td>0.001</td>\n",
       "      <td>0.00</td>\n",
       "      <td>DoNot</td>\n",
       "      <td>0</td>\n",
       "      <td>91</td>\n",
       "      <td>29</td>\n",
       "    </tr>\n",
       "    <tr>\n",
       "      <th>1</th>\n",
       "      <td>729</td>\n",
       "      <td>Mahanagar Provati</td>\n",
       "      <td>1.80</td>\n",
       "      <td>0.01</td>\n",
       "      <td>False</td>\n",
       "      <td>0.020</td>\n",
       "      <td>0.05</td>\n",
       "      <td>DoNot</td>\n",
       "      <td>0</td>\n",
       "      <td>29</td>\n",
       "      <td>17</td>\n",
       "    </tr>\n",
       "    <tr>\n",
       "      <th>2</th>\n",
       "      <td>742</td>\n",
       "      <td>Ekota Express</td>\n",
       "      <td>1.80</td>\n",
       "      <td>0.02</td>\n",
       "      <td>False</td>\n",
       "      <td>0.200</td>\n",
       "      <td>0.20</td>\n",
       "      <td>DoNot</td>\n",
       "      <td>0</td>\n",
       "      <td>42</td>\n",
       "      <td>9</td>\n",
       "    </tr>\n",
       "    <tr>\n",
       "      <th>3</th>\n",
       "      <td>739</td>\n",
       "      <td>Tista Express</td>\n",
       "      <td>1.90</td>\n",
       "      <td>0.10</td>\n",
       "      <td>False</td>\n",
       "      <td>0.370</td>\n",
       "      <td>0.25</td>\n",
       "      <td>DoNot</td>\n",
       "      <td>0</td>\n",
       "      <td>39</td>\n",
       "      <td>31</td>\n",
       "    </tr>\n",
       "    <tr>\n",
       "      <th>4</th>\n",
       "      <td>720</td>\n",
       "      <td>Parabat Express</td>\n",
       "      <td>1.95</td>\n",
       "      <td>0.14</td>\n",
       "      <td>False</td>\n",
       "      <td>0.500</td>\n",
       "      <td>0.27</td>\n",
       "      <td>DoNot</td>\n",
       "      <td>0</td>\n",
       "      <td>20</td>\n",
       "      <td>24</td>\n",
       "    </tr>\n",
       "  </tbody>\n",
       "</table>\n",
       "</div>"
      ],
      "text/plain": [
       "   AxleNumber         TrainModel  VerticalVibration  CrackSizeVertical  \\\n",
       "0         791    Subarna Express               1.60               0.01   \n",
       "1         729  Mahanagar Provati               1.80               0.01   \n",
       "2         742      Ekota Express               1.80               0.02   \n",
       "3         739      Tista Express               1.90               0.10   \n",
       "4         720    Parabat Express               1.95               0.14   \n",
       "\n",
       "  RepairmentAxle  HorizontalVibration  CrackSizeHorizontal RepairmentWheel  \\\n",
       "0          False                0.001                 0.00           DoNot   \n",
       "1          False                0.020                 0.05           DoNot   \n",
       "2          False                0.200                 0.20           DoNot   \n",
       "3          False                0.370                 0.25           DoNot   \n",
       "4          False                0.500                 0.27           DoNot   \n",
       "\n",
       "   RepairmentAxle_x  AxleNumber_x  TrainModel_x  \n",
       "0                 0            91            29  \n",
       "1                 0            29            17  \n",
       "2                 0            42             9  \n",
       "3                 0            39            31  \n",
       "4                 0            20            24  "
      ]
     },
     "execution_count": 10,
     "metadata": {},
     "output_type": "execute_result"
    }
   ],
   "source": [
    "data['RepairmentAxle_x'] =le_RepairmentAxle.fit_transform(data['RepairmentAxle'])\n",
    "data['AxleNumber_x'] =le_AxleNumber.fit_transform(data['AxleNumber'])\n",
    "data['TrainModel_x'] =le_TrainModel.fit_transform(data['TrainModel'])\n",
    "data.head()"
   ]
  },
  {
   "cell_type": "code",
   "execution_count": 11,
   "metadata": {},
   "outputs": [
    {
     "data": {
      "text/html": [
       "<div>\n",
       "<style scoped>\n",
       "    .dataframe tbody tr th:only-of-type {\n",
       "        vertical-align: middle;\n",
       "    }\n",
       "\n",
       "    .dataframe tbody tr th {\n",
       "        vertical-align: top;\n",
       "    }\n",
       "\n",
       "    .dataframe thead th {\n",
       "        text-align: right;\n",
       "    }\n",
       "</style>\n",
       "<table border=\"1\" class=\"dataframe\">\n",
       "  <thead>\n",
       "    <tr style=\"text-align: right;\">\n",
       "      <th></th>\n",
       "      <th>VerticalVibration</th>\n",
       "      <th>CrackSizeVertical</th>\n",
       "      <th>HorizontalVibration</th>\n",
       "      <th>CrackSizeHorizontal</th>\n",
       "      <th>RepairmentWheel</th>\n",
       "      <th>RepairmentAxle_x</th>\n",
       "      <th>AxleNumber_x</th>\n",
       "      <th>TrainModel_x</th>\n",
       "    </tr>\n",
       "  </thead>\n",
       "  <tbody>\n",
       "    <tr>\n",
       "      <th>0</th>\n",
       "      <td>1.60</td>\n",
       "      <td>0.01</td>\n",
       "      <td>0.001</td>\n",
       "      <td>0.00</td>\n",
       "      <td>DoNot</td>\n",
       "      <td>0</td>\n",
       "      <td>91</td>\n",
       "      <td>29</td>\n",
       "    </tr>\n",
       "    <tr>\n",
       "      <th>1</th>\n",
       "      <td>1.80</td>\n",
       "      <td>0.01</td>\n",
       "      <td>0.020</td>\n",
       "      <td>0.05</td>\n",
       "      <td>DoNot</td>\n",
       "      <td>0</td>\n",
       "      <td>29</td>\n",
       "      <td>17</td>\n",
       "    </tr>\n",
       "    <tr>\n",
       "      <th>2</th>\n",
       "      <td>1.80</td>\n",
       "      <td>0.02</td>\n",
       "      <td>0.200</td>\n",
       "      <td>0.20</td>\n",
       "      <td>DoNot</td>\n",
       "      <td>0</td>\n",
       "      <td>42</td>\n",
       "      <td>9</td>\n",
       "    </tr>\n",
       "    <tr>\n",
       "      <th>3</th>\n",
       "      <td>1.90</td>\n",
       "      <td>0.10</td>\n",
       "      <td>0.370</td>\n",
       "      <td>0.25</td>\n",
       "      <td>DoNot</td>\n",
       "      <td>0</td>\n",
       "      <td>39</td>\n",
       "      <td>31</td>\n",
       "    </tr>\n",
       "    <tr>\n",
       "      <th>4</th>\n",
       "      <td>1.95</td>\n",
       "      <td>0.14</td>\n",
       "      <td>0.500</td>\n",
       "      <td>0.27</td>\n",
       "      <td>DoNot</td>\n",
       "      <td>0</td>\n",
       "      <td>20</td>\n",
       "      <td>24</td>\n",
       "    </tr>\n",
       "  </tbody>\n",
       "</table>\n",
       "</div>"
      ],
      "text/plain": [
       "   VerticalVibration  CrackSizeVertical  HorizontalVibration  \\\n",
       "0               1.60               0.01                0.001   \n",
       "1               1.80               0.01                0.020   \n",
       "2               1.80               0.02                0.200   \n",
       "3               1.90               0.10                0.370   \n",
       "4               1.95               0.14                0.500   \n",
       "\n",
       "   CrackSizeHorizontal RepairmentWheel  RepairmentAxle_x  AxleNumber_x  \\\n",
       "0                 0.00           DoNot                 0            91   \n",
       "1                 0.05           DoNot                 0            29   \n",
       "2                 0.20           DoNot                 0            42   \n",
       "3                 0.25           DoNot                 0            39   \n",
       "4                 0.27           DoNot                 0            20   \n",
       "\n",
       "   TrainModel_x  \n",
       "0            29  \n",
       "1            17  \n",
       "2             9  \n",
       "3            31  \n",
       "4            24  "
      ]
     },
     "execution_count": 11,
     "metadata": {},
     "output_type": "execute_result"
    }
   ],
   "source": [
    "inputs = data.drop('AxleNumber',axis='columns')\n",
    "inputs = inputs.drop('TrainModel',axis='columns')\n",
    "inputs = inputs.drop('RepairmentAxle',axis='columns')\n",
    "inputs.head()"
   ]
  },
  {
   "cell_type": "code",
   "execution_count": 12,
   "metadata": {},
   "outputs": [
    {
     "data": {
      "text/plain": [
       "Index(['VerticalVibration', 'CrackSizeVertical', 'HorizontalVibration',\n",
       "       'CrackSizeHorizontal', 'RepairmentWheel', 'RepairmentAxle_x',\n",
       "       'AxleNumber_x', 'TrainModel_x'],\n",
       "      dtype='object')"
      ]
     },
     "execution_count": 12,
     "metadata": {},
     "output_type": "execute_result"
    }
   ],
   "source": [
    "attributes = inputs.columns\n",
    "attributes"
   ]
  },
  {
   "cell_type": "code",
   "execution_count": 13,
   "metadata": {},
   "outputs": [
    {
     "data": {
      "text/plain": [
       "['VerticalVibration',\n",
       " 'CrackSizeVertical',\n",
       " 'HorizontalVibration',\n",
       " 'CrackSizeHorizontal',\n",
       " 'RepairmentAxle_x',\n",
       " 'AxleNumber_x',\n",
       " 'TrainModel_x']"
      ]
     },
     "execution_count": 13,
     "metadata": {},
     "output_type": "execute_result"
    }
   ],
   "source": [
    "attributes = [x for x in attributes if x != 'RepairmentWheel']\n",
    "attributes"
   ]
  },
  {
   "cell_type": "code",
   "execution_count": 14,
   "metadata": {},
   "outputs": [
    {
     "name": "stdout",
     "output_type": "stream",
     "text": [
      "975\n",
      "731\n",
      "244\n"
     ]
    }
   ],
   "source": [
    "train, test = train_test_split(inputs, test_size = 0.25)\n",
    "print(len(inputs))\n",
    "print(len(train))\n",
    "print(len(test))"
   ]
  },
  {
   "cell_type": "code",
   "execution_count": 15,
   "metadata": {},
   "outputs": [],
   "source": [
    "dt= DecisionTreeClassifier(min_samples_split = 100, criterion='entropy')\n",
    "mlp = MLPClassifier(hidden_layer_sizes=(20,20,20), max_iter = 900, activation = 'relu')"
   ]
  },
  {
   "cell_type": "code",
   "execution_count": 16,
   "metadata": {},
   "outputs": [],
   "source": [
    "x_train = train[attributes]\n",
    "y_train = train[\"RepairmentWheel\"]\n",
    "\n",
    "x_test = test[attributes]\n",
    "y_test = test[\"RepairmentWheel\"]"
   ]
  },
  {
   "cell_type": "code",
   "execution_count": 17,
   "metadata": {},
   "outputs": [],
   "source": [
    "Nb=GaussianNB()\n",
    "Nb= Nb.fit(x_train,y_train)"
   ]
  },
  {
   "cell_type": "code",
   "execution_count": 18,
   "metadata": {},
   "outputs": [],
   "source": [
    "dt = dt.fit(x_train, y_train)\n",
    "mlp = mlp.fit(x_train, y_train)"
   ]
  },
  {
   "cell_type": "code",
   "execution_count": 19,
   "metadata": {},
   "outputs": [],
   "source": [
    "y_fore1 = dt.predict(x_test)\n",
    "y_fore2 = Nb.predict(x_test)\n",
    "y_fore3 = mlp.predict(x_test)"
   ]
  },
  {
   "cell_type": "code",
   "execution_count": 20,
   "metadata": {},
   "outputs": [
    {
     "data": {
      "text/plain": [
       "array(['Do', 'DoNot', 'Do', 'Do', 'Do', 'Do', 'Do', 'Do', 'DoNot', 'Do',\n",
       "       'DoNot', 'DoNot', 'Do', 'DoNot', 'Do', 'Do', 'Do', 'DoNot', 'Do',\n",
       "       'Do', 'Do', 'DoNot', 'Do', 'Do', 'Do', 'Do', 'Do', 'Do', 'DoNot',\n",
       "       'Do', 'Do', 'DoNot', 'Do', 'DoNot', 'Do', 'Do', 'Do', 'Do', 'Do',\n",
       "       'DoNot', 'Do', 'DoNot', 'DoNot', 'Do', 'Do', 'Do', 'Do', 'Do',\n",
       "       'Do', 'Do', 'DoNot', 'Do', 'Do', 'Do', 'Do', 'Do', 'Do', 'Do',\n",
       "       'Do', 'Do', 'Do', 'Do', 'DoNot', 'Do', 'DoNot', 'Do', 'DoNot',\n",
       "       'DoNot', 'Do', 'Do', 'DoNot', 'DoNot', 'Do', 'DoNot', 'Do', 'Do',\n",
       "       'Do', 'Do', 'Do', 'Do', 'Do', 'Do', 'Do', 'Do', 'Do', 'Do', 'Do',\n",
       "       'DoNot', 'Do', 'Do', 'Do', 'Do', 'Do', 'Do', 'Do', 'Do', 'DoNot',\n",
       "       'Do', 'Do', 'Do', 'Do', 'Do', 'DoNot', 'Do', 'Do', 'Do', 'Do',\n",
       "       'Do', 'DoNot', 'Do', 'Do', 'Do', 'Do', 'Do', 'Do', 'Do', 'DoNot',\n",
       "       'Do', 'Do', 'Do', 'Do', 'Do', 'Do', 'Do', 'Do', 'Do', 'Do', 'Do',\n",
       "       'Do', 'DoNot', 'Do', 'Do', 'Do', 'DoNot', 'Do', 'Do', 'Do',\n",
       "       'DoNot', 'Do', 'Do', 'Do', 'DoNot', 'Do', 'DoNot', 'DoNot',\n",
       "       'DoNot', 'Do', 'Do', 'Do', 'Do', 'Do', 'DoNot', 'DoNot', 'Do',\n",
       "       'Do', 'DoNot', 'Do', 'Do', 'Do', 'DoNot', 'Do', 'Do', 'DoNot',\n",
       "       'Do', 'DoNot', 'DoNot', 'Do', 'Do', 'Do', 'DoNot', 'Do', 'DoNot',\n",
       "       'Do', 'Do', 'Do', 'Do', 'Do', 'DoNot', 'Do', 'Do', 'Do', 'Do',\n",
       "       'Do', 'Do', 'DoNot', 'Do', 'Do', 'Do', 'DoNot', 'DoNot', 'Do',\n",
       "       'DoNot', 'Do', 'Do', 'Do', 'DoNot', 'Do', 'DoNot', 'DoNot', 'Do',\n",
       "       'Do', 'Do', 'DoNot', 'DoNot', 'Do', 'Do', 'DoNot', 'Do', 'DoNot',\n",
       "       'DoNot', 'Do', 'Do', 'Do', 'Do', 'Do', 'Do', 'DoNot', 'Do', 'Do',\n",
       "       'Do', 'Do', 'DoNot', 'Do', 'DoNot', 'Do', 'Do', 'Do', 'Do', 'Do',\n",
       "       'DoNot', 'Do', 'DoNot', 'Do', 'Do', 'DoNot', 'Do', 'DoNot', 'Do',\n",
       "       'Do', 'Do', 'Do', 'DoNot', 'Do', 'Do'], dtype='<U5')"
      ]
     },
     "execution_count": 20,
     "metadata": {},
     "output_type": "execute_result"
    }
   ],
   "source": [
    "y_fore1\n",
    "y_fore2\n",
    "y_fore3"
   ]
  },
  {
   "cell_type": "code",
   "execution_count": 21,
   "metadata": {},
   "outputs": [
    {
     "name": "stdout",
     "output_type": "stream",
     "text": [
      "Desicion Tree accuracy(%):  100.0 %\n",
      "  Naive Bayes accuracy(%):  96.3 %\n",
      "    Neural Net accuracy(%):  97.1 %\n"
     ]
    }
   ],
   "source": [
    "from sklearn.metrics import accuracy_score\n",
    "score1 = accuracy_score(y_test, y_fore1) * 100\n",
    "print(\"Desicion Tree accuracy(%): \", round(score1, 1), \"%\" )\n",
    "score2 = accuracy_score(y_test, y_fore2) * 100\n",
    "print(\"  Naive Bayes accuracy(%): \", round(score2, 1), \"%\" )\n",
    "score3 = accuracy_score(y_test, y_fore3) * 100\n",
    "print(\"    Neural Net accuracy(%): \", round(score3, 1), \"%\" )"
   ]
  },
  {
   "cell_type": "code",
   "execution_count": 24,
   "metadata": {},
   "outputs": [
    {
     "data": {
      "image/png": "[encoded data removed]",
      "text/plain": [
       "<Figure size 960x640 with 1 Axes>"
      ]
     },
     "metadata": {},
     "output_type": "display_data"
    }
   ],
   "source": [
    "plt.figure(figsize=(12,8), dpi=80, facecolor='w', edgecolor='k')\n",
    "\n",
    "bar_width = 0.5\n",
    "objects = [\"Decision Tree\", \"Naive Bayes\",\"Nural Network\"]\n",
    "y_axis = [score1, score2, score3]\n",
    "y_pos = np.arange(len(objects))\n",
    "\n",
    "plt.bar(y_pos, y_axis, bar_width, align='center', color='r')\n",
    "plt.xticks(y_pos, objects, rotation='vertical', fontsize=16)\n",
    "plt.yticks(fontsize=15)\n",
    "plt.xlabel('Machine Learning Algorithms', fontsize=18)\n",
    "plt.ylabel('Accuracy(%)', fontsize=18)\n",
    "plt.title('Bar Chart Demonstrating the accuracy of Different Machine Learning Algorithms', fontsize=22, pad=20)\n",
    "plt.show()"
   ]
  },
  {
   "cell_type": "code",
   "execution_count": null,
   "metadata": {},
   "outputs": [],
   "source": []
  }
 ],
 "metadata": {
  "kernelspec": {
   "display_name": "Python 3",
   "language": "python",
   "name": "python3"
  },
  "language_info": {
   "codemirror_mode": {
    "name": "ipython",
    "version": 3
   },
   "file_extension": ".py",
   "mimetype": "text/x-python",
   "name": "python",
   "nbconvert_exporter": "python",
   "pygments_lexer": "ipython3",
   "version": "3.8.3"
  }
 },
 "nbformat": 4,
 "nbformat_minor": 4
}
